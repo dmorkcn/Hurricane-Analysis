{
 "cells": [
  {
   "cell_type": "code",
   "execution_count": 9,
   "metadata": {},
   "outputs": [],
   "source": [
    "# names of hurricanes\n",
    "names = ['Cuba I', 'San Felipe II Okeechobee', 'Bahamas', 'Cuba II', 'CubaBrownsville', 'Tampico', 'Labor Day', 'New England', 'Carol', 'Janet', 'Carla', 'Hattie', 'Beulah', 'Camille', 'Edith', 'Anita', 'David', 'Allen', 'Gilbert', 'Hugo', 'Andrew', 'Mitch', 'Isabel', 'Ivan', 'Emily', 'Katrina', 'Rita', 'Wilma', 'Dean', 'Felix', 'Matthew', 'Irma', 'Maria', 'Michael']\n",
    "\n",
    "# months of hurricanes\n",
    "months = ['October', 'September', 'September', 'November', 'August', 'September', 'September', 'September', 'September', 'September', 'September', 'October', 'September', 'August', 'September', 'September', 'August', 'August', 'September', 'September', 'August', 'October', 'September', 'September', 'July', 'August', 'September', 'October', 'August', 'September', 'October', 'September', 'September', 'October']\n",
    "\n",
    "# years of hurricanes\n",
    "years = [1924, 1928, 1932, 1932, 1933, 1933, 1935, 1938, 1953, 1955, 1961, 1961, 1967, 1969, 1971, 1977, 1979, 1980, 1988, 1989, 1992, 1998, 2003, 2004, 2005, 2005, 2005, 2005, 2007, 2007, 2016, 2017, 2017, 2018]\n",
    "\n",
    "# maximum sustained winds (mph) of hurricanes\n",
    "max_sustained_winds = [165, 160, 160, 175, 160, 160, 185, 160, 160, 175, 175, 160, 160, 175, 160, 175, 175, 190, 185, 160, 175, 180, 165, 165, 160, 175, 180, 185, 175, 175, 165, 180, 175, 160]\n",
    "\n",
    "# areas affected by each hurricane\n",
    "areas_affected = [['Central America', 'Mexico', 'Cuba', 'Florida', 'The Bahamas'], ['Lesser Antilles', 'The Bahamas', 'United States East Coast', 'Atlantic Canada'], ['The Bahamas', 'Northeastern United States'], ['Lesser Antilles', 'Jamaica', 'Cayman Islands', 'Cuba', 'The Bahamas', 'Bermuda'], ['The Bahamas', 'Cuba', 'Florida', 'Texas', 'Tamaulipas'], ['Jamaica', 'Yucatn Peninsula'], ['The Bahamas', 'Florida', 'Georgia', 'The Carolinas', 'Virginia'], ['Southeastern United States', 'Northeastern United States', 'Southwestern Quebec'], ['Bermuda', 'New England', 'Atlantic Canada'], ['Lesser Antilles', 'Central America'], ['Texas', 'Louisiana', 'Midwestern United States'], ['Central America'], ['The Caribbean', 'Mexico', 'Texas'], ['Cuba', 'United States Gulf Coast'], ['The Caribbean', 'Central America', 'Mexico', 'United States Gulf Coast'], ['Mexico'], ['The Caribbean', 'United States East coast'], ['The Caribbean', 'Yucatn Peninsula', 'Mexico', 'South Texas'], ['Jamaica', 'Venezuela', 'Central America', 'Hispaniola', 'Mexico'], ['The Caribbean', 'United States East Coast'], ['The Bahamas', 'Florida', 'United States Gulf Coast'], ['Central America', 'Yucatn Peninsula', 'South Florida'], ['Greater Antilles', 'Bahamas', 'Eastern United States', 'Ontario'], ['The Caribbean', 'Venezuela', 'United States Gulf Coast'], ['Windward Islands', 'Jamaica', 'Mexico', 'Texas'], ['Bahamas', 'United States Gulf Coast'], ['Cuba', 'United States Gulf Coast'], ['Greater Antilles', 'Central America', 'Florida'], ['The Caribbean', 'Central America'], ['Nicaragua', 'Honduras'], ['Antilles', 'Venezuela', 'Colombia', 'United States East Coast', 'Atlantic Canada'], ['Cape Verde', 'The Caribbean', 'British Virgin Islands', 'U.S. Virgin Islands', 'Cuba', 'Florida'], ['Lesser Antilles', 'Virgin Islands', 'Puerto Rico', 'Dominican Republic', 'Turks and Caicos Islands'], ['Central America', 'United States Gulf Coast (especially Florida Panhandle)']]\n",
    "\n",
    "# damages (USD($)) of hurricanes\n",
    "damages = ['Damages not recorded', '100M', 'Damages not recorded', '40M', '27.9M', '5M', 'Damages not recorded', '306M', '2M', '65.8M', '326M', '60.3M', '208M', '1.42B', '25.4M', 'Damages not recorded', '1.54B', '1.24B', '7.1B', '10B', '26.5B', '6.2B', '5.37B', '23.3B', '1.01B', '125B', '12B', '29.4B', '1.76B', '720M', '15.1B', '64.8B', '91.6B', '25.1B']\n",
    "\n",
    "# deaths for each hurricane\n",
    "deaths = [90,4000,16,3103,179,184,408,682,5,1023,43,319,688,259,37,11,2068,269,318,107,65,19325,51,124,17,1836,125,87,45,133,603,138,3057,74]\n",
    "\n",
    "conversion = {\"M\": 1000000,\n",
    "              \"B\": 1000000000}"
   ]
  },
  {
   "source": [
    "# write your update damages function here:\n",
    "def update_damage():\n",
    "    return [float(dam[:-1])*conversion[dam[-1]] if conversion.get(dam[-1]) else dam for dam in damages]\n",
    "damages = update_damage()\n"
   ],
   "cell_type": "code",
   "metadata": {},
   "execution_count": 10,
   "outputs": []
  },
  {
   "cell_type": "code",
   "execution_count": 7,
   "metadata": {},
   "outputs": [],
   "source": [
    "print(damages)"
   ]
  },
  {
   "source": [
    "nice job! very clean code. this markdown is just to practice wworking together in a code.\n",
    "this was my solution:\n",
    "\n",
    "def update_damages(damages):\n",
    "    updated_list = []\n",
    "    for i in damages:\n",
    "        if i == \"Damages not recorded\":\n",
    "            updated_list.append(\"Damages not recorded\")\n",
    "        if i[-1] == \"M\":\n",
    "            updated_list.append(float(i[:-1]) * 10**6)\n",
    "        if i[-1] == \"B\":\n",
    "            updated_list.append(float(i[:-1]) * 10**9)\n",
    "    return updated_list\n",
    "\n",
    "damages_updated = update_damages(damages)\n",
    "print(damages_updated, \"\\n\")"
   ],
   "cell_type": "markdown",
   "metadata": {}
  },
  {
   "cell_type": "code",
   "execution_count": 11,
   "metadata": {},
   "outputs": [
    {
     "output_type": "stream",
     "name": "stdout",
     "text": [
      "{'Cuba I': {'Name': 'Cuba I', 'Month': 'October', 'Year': 1924, 'Max Sustained Wind': 165, 'Areas Affected': ['Central America', 'Mexico', 'Cuba', 'Florida', 'The Bahamas'], 'Damage': 'Damages not recorded', 'Death': 90}, 'San Felipe II Okeechobee': {'Name': 'San Felipe II Okeechobee', 'Month': 'September', 'Year': 1928, 'Max Sustained Wind': 160, 'Areas Affected': ['Lesser Antilles', 'The Bahamas', 'United States East Coast', 'Atlantic Canada'], 'Damage': 100000000.0, 'Death': 4000}, 'Bahamas': {'Name': 'Bahamas', 'Month': 'September', 'Year': 1932, 'Max Sustained Wind': 160, 'Areas Affected': ['The Bahamas', 'Northeastern United States'], 'Damage': 'Damages not recorded', 'Death': 16}, 'Cuba II': {'Name': 'Cuba II', 'Month': 'November', 'Year': 1932, 'Max Sustained Wind': 175, 'Areas Affected': ['Lesser Antilles', 'Jamaica', 'Cayman Islands', 'Cuba', 'The Bahamas', 'Bermuda'], 'Damage': 40000000.0, 'Death': 3103}, 'CubaBrownsville': {'Name': 'CubaBrownsville', 'Month': 'August', 'Year': 1933, 'Max Sustained Wind': 160, 'Areas Affected': ['The Bahamas', 'Cuba', 'Florida', 'Texas', 'Tamaulipas'], 'Damage': 27900000.0, 'Death': 179}, 'Tampico': {'Name': 'Tampico', 'Month': 'September', 'Year': 1933, 'Max Sustained Wind': 160, 'Areas Affected': ['Jamaica', 'Yucatn Peninsula'], 'Damage': 5000000.0, 'Death': 184}, 'Labor Day': {'Name': 'Labor Day', 'Month': 'September', 'Year': 1935, 'Max Sustained Wind': 185, 'Areas Affected': ['The Bahamas', 'Florida', 'Georgia', 'The Carolinas', 'Virginia'], 'Damage': 'Damages not recorded', 'Death': 408}, 'New England': {'Name': 'New England', 'Month': 'September', 'Year': 1938, 'Max Sustained Wind': 160, 'Areas Affected': ['Southeastern United States', 'Northeastern United States', 'Southwestern Quebec'], 'Damage': 306000000.0, 'Death': 682}, 'Carol': {'Name': 'Carol', 'Month': 'September', 'Year': 1953, 'Max Sustained Wind': 160, 'Areas Affected': ['Bermuda', 'New England', 'Atlantic Canada'], 'Damage': 2000000.0, 'Death': 5}, 'Janet': {'Name': 'Janet', 'Month': 'September', 'Year': 1955, 'Max Sustained Wind': 175, 'Areas Affected': ['Lesser Antilles', 'Central America'], 'Damage': 65800000.0, 'Death': 1023}, 'Carla': {'Name': 'Carla', 'Month': 'September', 'Year': 1961, 'Max Sustained Wind': 175, 'Areas Affected': ['Texas', 'Louisiana', 'Midwestern United States'], 'Damage': 326000000.0, 'Death': 43}, 'Hattie': {'Name': 'Hattie', 'Month': 'October', 'Year': 1961, 'Max Sustained Wind': 160, 'Areas Affected': ['Central America'], 'Damage': 60300000.0, 'Death': 319}, 'Beulah': {'Name': 'Beulah', 'Month': 'September', 'Year': 1967, 'Max Sustained Wind': 160, 'Areas Affected': ['The Caribbean', 'Mexico', 'Texas'], 'Damage': 208000000.0, 'Death': 688}, 'Camille': {'Name': 'Camille', 'Month': 'August', 'Year': 1969, 'Max Sustained Wind': 175, 'Areas Affected': ['Cuba', 'United States Gulf Coast'], 'Damage': 1420000000.0, 'Death': 259}, 'Edith': {'Name': 'Edith', 'Month': 'September', 'Year': 1971, 'Max Sustained Wind': 160, 'Areas Affected': ['The Caribbean', 'Central America', 'Mexico', 'United States Gulf Coast'], 'Damage': 25400000.0, 'Death': 37}, 'Anita': {'Name': 'Anita', 'Month': 'September', 'Year': 1977, 'Max Sustained Wind': 175, 'Areas Affected': ['Mexico'], 'Damage': 'Damages not recorded', 'Death': 11}, 'David': {'Name': 'David', 'Month': 'August', 'Year': 1979, 'Max Sustained Wind': 175, 'Areas Affected': ['The Caribbean', 'United States East coast'], 'Damage': 1540000000.0, 'Death': 2068}, 'Allen': {'Name': 'Allen', 'Month': 'August', 'Year': 1980, 'Max Sustained Wind': 190, 'Areas Affected': ['The Caribbean', 'Yucatn Peninsula', 'Mexico', 'South Texas'], 'Damage': 1240000000.0, 'Death': 269}, 'Gilbert': {'Name': 'Gilbert', 'Month': 'September', 'Year': 1988, 'Max Sustained Wind': 185, 'Areas Affected': ['Jamaica', 'Venezuela', 'Central America', 'Hispaniola', 'Mexico'], 'Damage': 7100000000.0, 'Death': 318}, 'Hugo': {'Name': 'Hugo', 'Month': 'September', 'Year': 1989, 'Max Sustained Wind': 160, 'Areas Affected': ['The Caribbean', 'United States East Coast'], 'Damage': 10000000000.0, 'Death': 107}, 'Andrew': {'Name': 'Andrew', 'Month': 'August', 'Year': 1992, 'Max Sustained Wind': 175, 'Areas Affected': ['The Bahamas', 'Florida', 'United States Gulf Coast'], 'Damage': 26500000000.0, 'Death': 65}, 'Mitch': {'Name': 'Mitch', 'Month': 'October', 'Year': 1998, 'Max Sustained Wind': 180, 'Areas Affected': ['Central America', 'Yucatn Peninsula', 'South Florida'], 'Damage': 6200000000.0, 'Death': 19325}, 'Isabel': {'Name': 'Isabel', 'Month': 'September', 'Year': 2003, 'Max Sustained Wind': 165, 'Areas Affected': ['Greater Antilles', 'Bahamas', 'Eastern United States', 'Ontario'], 'Damage': 5370000000.0, 'Death': 51}, 'Ivan': {'Name': 'Ivan', 'Month': 'September', 'Year': 2004, 'Max Sustained Wind': 165, 'Areas Affected': ['The Caribbean', 'Venezuela', 'United States Gulf Coast'], 'Damage': 23300000000.0, 'Death': 124}, 'Emily': {'Name': 'Emily', 'Month': 'July', 'Year': 2005, 'Max Sustained Wind': 160, 'Areas Affected': ['Windward Islands', 'Jamaica', 'Mexico', 'Texas'], 'Damage': 1010000000.0, 'Death': 17}, 'Katrina': {'Name': 'Katrina', 'Month': 'August', 'Year': 2005, 'Max Sustained Wind': 175, 'Areas Affected': ['Bahamas', 'United States Gulf Coast'], 'Damage': 125000000000.0, 'Death': 1836}, 'Rita': {'Name': 'Rita', 'Month': 'September', 'Year': 2005, 'Max Sustained Wind': 180, 'Areas Affected': ['Cuba', 'United States Gulf Coast'], 'Damage': 12000000000.0, 'Death': 125}, 'Wilma': {'Name': 'Wilma', 'Month': 'October', 'Year': 2005, 'Max Sustained Wind': 185, 'Areas Affected': ['Greater Antilles', 'Central America', 'Florida'], 'Damage': 29400000000.0, 'Death': 87}, 'Dean': {'Name': 'Dean', 'Month': 'August', 'Year': 2007, 'Max Sustained Wind': 175, 'Areas Affected': ['The Caribbean', 'Central America'], 'Damage': 1760000000.0, 'Death': 45}, 'Felix': {'Name': 'Felix', 'Month': 'September', 'Year': 2007, 'Max Sustained Wind': 175, 'Areas Affected': ['Nicaragua', 'Honduras'], 'Damage': 720000000.0, 'Death': 133}, 'Matthew': {'Name': 'Matthew', 'Month': 'October', 'Year': 2016, 'Max Sustained Wind': 165, 'Areas Affected': ['Antilles', 'Venezuela', 'Colombia', 'United States East Coast', 'Atlantic Canada'], 'Damage': 15100000000.0, 'Death': 603}, 'Irma': {'Name': 'Irma', 'Month': 'September', 'Year': 2017, 'Max Sustained Wind': 180, 'Areas Affected': ['Cape Verde', 'The Caribbean', 'British Virgin Islands', 'U.S. Virgin Islands', 'Cuba', 'Florida'], 'Damage': 64800000000.0, 'Death': 138}, 'Maria': {'Name': 'Maria', 'Month': 'September', 'Year': 2017, 'Max Sustained Wind': 175, 'Areas Affected': ['Lesser Antilles', 'Virgin Islands', 'Puerto Rico', 'Dominican Republic', 'Turks and Caicos Islands'], 'Damage': 91600000000.0, 'Death': 3057}, 'Michael': {'Name': 'Michael', 'Month': 'October', 'Year': 2018, 'Max Sustained Wind': 160, 'Areas Affected': ['Central America', 'United States Gulf Coast (especially Florida Panhandle)'], 'Damage': 25100000000.0, 'Death': 74}}\n"
     ]
    }
   ],
   "source": [
    "# write your construct hurricane dictionary function here:\n",
    "\n",
    "def name_dict(names,months,years,max_sustained_winds, areas_affected,damages,deaths):\n",
    "    hurricane={}\n",
    "    for i in range(len(names)):\n",
    "        hurricane[names[i]]={\n",
    "            \"Name\":names[i],\n",
    "            \"Month\":months[i],\n",
    "            \"Year\":years[i],\n",
    "            \"Max Sustained Wind\":max_sustained_winds[i],\n",
    "            \"Areas Affected\":areas_affected[i],\n",
    "            \"Damage\":damages[i],\n",
    "            \"Death\":deaths[i]\n",
    "        }\n",
    "    return hurricane\n",
    "        \n",
    "        \n",
    "hurricane_dict=name_dict(names,months,years,max_sustained_winds, areas_affected,damages,deaths)\n",
    "\n",
    "print(hurricane_dict)"
   ]
  },
  {
   "cell_type": "code",
   "execution_count": 12,
   "metadata": {},
   "outputs": [
    {
     "output_type": "stream",
     "name": "stdout",
     "text": [
      "{'Cuba I': {'Name': 'Cuba I', 'Month': 'October', 'Year': 1924, 'Max Sustained Wind': 165, 'Areas Affected': ['Central America', 'Mexico', 'Cuba', 'Florida', 'The Bahamas'], 'Damage': 'Damages not recorded', 'Death': 90}, 'San Felipe II Okeechobee': {'Name': 'San Felipe II Okeechobee', 'Month': 'September', 'Year': 1928, 'Max Sustained Wind': 160, 'Areas Affected': ['Lesser Antilles', 'The Bahamas', 'United States East Coast', 'Atlantic Canada'], 'Damage': 100000000.0, 'Death': 4000}, 'Bahamas': {'Name': 'Bahamas', 'Month': 'September', 'Year': 1932, 'Max Sustained Wind': 160, 'Areas Affected': ['The Bahamas', 'Northeastern United States'], 'Damage': 'Damages not recorded', 'Death': 16}, 'Cuba II': {'Name': 'Cuba II', 'Month': 'November', 'Year': 1932, 'Max Sustained Wind': 175, 'Areas Affected': ['Lesser Antilles', 'Jamaica', 'Cayman Islands', 'Cuba', 'The Bahamas', 'Bermuda'], 'Damage': 40000000.0, 'Death': 3103}, 'CubaBrownsville': {'Name': 'CubaBrownsville', 'Month': 'August', 'Year': 1933, 'Max Sustained Wind': 160, 'Areas Affected': ['The Bahamas', 'Cuba', 'Florida', 'Texas', 'Tamaulipas'], 'Damage': 27900000.0, 'Death': 179}, 'Tampico': {'Name': 'Tampico', 'Month': 'September', 'Year': 1933, 'Max Sustained Wind': 160, 'Areas Affected': ['Jamaica', 'Yucatn Peninsula'], 'Damage': 5000000.0, 'Death': 184}, 'Labor Day': {'Name': 'Labor Day', 'Month': 'September', 'Year': 1935, 'Max Sustained Wind': 185, 'Areas Affected': ['The Bahamas', 'Florida', 'Georgia', 'The Carolinas', 'Virginia'], 'Damage': 'Damages not recorded', 'Death': 408}, 'New England': {'Name': 'New England', 'Month': 'September', 'Year': 1938, 'Max Sustained Wind': 160, 'Areas Affected': ['Southeastern United States', 'Northeastern United States', 'Southwestern Quebec'], 'Damage': 306000000.0, 'Death': 682}, 'Carol': {'Name': 'Carol', 'Month': 'September', 'Year': 1953, 'Max Sustained Wind': 160, 'Areas Affected': ['Bermuda', 'New England', 'Atlantic Canada'], 'Damage': 2000000.0, 'Death': 5}, 'Janet': {'Name': 'Janet', 'Month': 'September', 'Year': 1955, 'Max Sustained Wind': 175, 'Areas Affected': ['Lesser Antilles', 'Central America'], 'Damage': 65800000.0, 'Death': 1023}, 'Carla': {'Name': 'Carla', 'Month': 'September', 'Year': 1961, 'Max Sustained Wind': 175, 'Areas Affected': ['Texas', 'Louisiana', 'Midwestern United States'], 'Damage': 326000000.0, 'Death': 43}, 'Hattie': {'Name': 'Hattie', 'Month': 'October', 'Year': 1961, 'Max Sustained Wind': 160, 'Areas Affected': ['Central America'], 'Damage': 60300000.0, 'Death': 319}, 'Beulah': {'Name': 'Beulah', 'Month': 'September', 'Year': 1967, 'Max Sustained Wind': 160, 'Areas Affected': ['The Caribbean', 'Mexico', 'Texas'], 'Damage': 208000000.0, 'Death': 688}, 'Camille': {'Name': 'Camille', 'Month': 'August', 'Year': 1969, 'Max Sustained Wind': 175, 'Areas Affected': ['Cuba', 'United States Gulf Coast'], 'Damage': 1420000000.0, 'Death': 259}, 'Edith': {'Name': 'Edith', 'Month': 'September', 'Year': 1971, 'Max Sustained Wind': 160, 'Areas Affected': ['The Caribbean', 'Central America', 'Mexico', 'United States Gulf Coast'], 'Damage': 25400000.0, 'Death': 37}, 'Anita': {'Name': 'Anita', 'Month': 'September', 'Year': 1977, 'Max Sustained Wind': 175, 'Areas Affected': ['Mexico'], 'Damage': 'Damages not recorded', 'Death': 11}, 'David': {'Name': 'David', 'Month': 'August', 'Year': 1979, 'Max Sustained Wind': 175, 'Areas Affected': ['The Caribbean', 'United States East coast'], 'Damage': 1540000000.0, 'Death': 2068}, 'Allen': {'Name': 'Allen', 'Month': 'August', 'Year': 1980, 'Max Sustained Wind': 190, 'Areas Affected': ['The Caribbean', 'Yucatn Peninsula', 'Mexico', 'South Texas'], 'Damage': 1240000000.0, 'Death': 269}, 'Gilbert': {'Name': 'Gilbert', 'Month': 'September', 'Year': 1988, 'Max Sustained Wind': 185, 'Areas Affected': ['Jamaica', 'Venezuela', 'Central America', 'Hispaniola', 'Mexico'], 'Damage': 7100000000.0, 'Death': 318}, 'Hugo': {'Name': 'Hugo', 'Month': 'September', 'Year': 1989, 'Max Sustained Wind': 160, 'Areas Affected': ['The Caribbean', 'United States East Coast'], 'Damage': 10000000000.0, 'Death': 107}, 'Andrew': {'Name': 'Andrew', 'Month': 'August', 'Year': 1992, 'Max Sustained Wind': 175, 'Areas Affected': ['The Bahamas', 'Florida', 'United States Gulf Coast'], 'Damage': 26500000000.0, 'Death': 65}, 'Mitch': {'Name': 'Mitch', 'Month': 'October', 'Year': 1998, 'Max Sustained Wind': 180, 'Areas Affected': ['Central America', 'Yucatn Peninsula', 'South Florida'], 'Damage': 6200000000.0, 'Death': 19325}, 'Isabel': {'Name': 'Isabel', 'Month': 'September', 'Year': 2003, 'Max Sustained Wind': 165, 'Areas Affected': ['Greater Antilles', 'Bahamas', 'Eastern United States', 'Ontario'], 'Damage': 5370000000.0, 'Death': 51}, 'Ivan': {'Name': 'Ivan', 'Month': 'September', 'Year': 2004, 'Max Sustained Wind': 165, 'Areas Affected': ['The Caribbean', 'Venezuela', 'United States Gulf Coast'], 'Damage': 23300000000.0, 'Death': 124}, 'Emily': {'Name': 'Emily', 'Month': 'July', 'Year': 2005, 'Max Sustained Wind': 160, 'Areas Affected': ['Windward Islands', 'Jamaica', 'Mexico', 'Texas'], 'Damage': 1010000000.0, 'Death': 17}, 'Katrina': {'Name': 'Katrina', 'Month': 'August', 'Year': 2005, 'Max Sustained Wind': 175, 'Areas Affected': ['Bahamas', 'United States Gulf Coast'], 'Damage': 125000000000.0, 'Death': 1836}, 'Rita': {'Name': 'Rita', 'Month': 'September', 'Year': 2005, 'Max Sustained Wind': 180, 'Areas Affected': ['Cuba', 'United States Gulf Coast'], 'Damage': 12000000000.0, 'Death': 125}, 'Wilma': {'Name': 'Wilma', 'Month': 'October', 'Year': 2005, 'Max Sustained Wind': 185, 'Areas Affected': ['Greater Antilles', 'Central America', 'Florida'], 'Damage': 29400000000.0, 'Death': 87}, 'Dean': {'Name': 'Dean', 'Month': 'August', 'Year': 2007, 'Max Sustained Wind': 175, 'Areas Affected': ['The Caribbean', 'Central America'], 'Damage': 1760000000.0, 'Death': 45}, 'Felix': {'Name': 'Felix', 'Month': 'September', 'Year': 2007, 'Max Sustained Wind': 175, 'Areas Affected': ['Nicaragua', 'Honduras'], 'Damage': 720000000.0, 'Death': 133}, 'Matthew': {'Name': 'Matthew', 'Month': 'October', 'Year': 2016, 'Max Sustained Wind': 165, 'Areas Affected': ['Antilles', 'Venezuela', 'Colombia', 'United States East Coast', 'Atlantic Canada'], 'Damage': 15100000000.0, 'Death': 603}, 'Irma': {'Name': 'Irma', 'Month': 'September', 'Year': 2017, 'Max Sustained Wind': 180, 'Areas Affected': ['Cape Verde', 'The Caribbean', 'British Virgin Islands', 'U.S. Virgin Islands', 'Cuba', 'Florida'], 'Damage': 64800000000.0, 'Death': 138}, 'Maria': {'Name': 'Maria', 'Month': 'September', 'Year': 2017, 'Max Sustained Wind': 175, 'Areas Affected': ['Lesser Antilles', 'Virgin Islands', 'Puerto Rico', 'Dominican Republic', 'Turks and Caicos Islands'], 'Damage': 91600000000.0, 'Death': 3057}, 'Michael': {'Name': 'Michael', 'Month': 'October', 'Year': 2018, 'Max Sustained Wind': 160, 'Areas Affected': ['Central America', 'United States Gulf Coast (especially Florida Panhandle)'], 'Damage': 25100000000.0, 'Death': 74}}\n"
     ]
    }
   ],
   "source": [
    "print(hurricane_dict)"
   ]
  },
  {
   "cell_type": "code",
   "execution_count": 13,
   "metadata": {},
   "outputs": [],
   "source": [
    "# write your construct hurricane by year dictionary function here:\n",
    "def year_dict():\n",
    "    my_dict={}\n",
    "    for name, val_dict in hurricane_dict.items():\n",
    "            if val_dict['Year'] not in my_dict.keys():\n",
    "                my_dict[val_dict['Year']]=val_dict\n",
    "                \n",
    "            elif val_dict['Year'] in my_dict.keys():\n",
    "                value=[my_dict[val_dict['Year']]]\n",
    "                value.append(val_dict)\n",
    "                my_dict[val_dict['Year']]=value\n",
    "    return my_dict\n",
    "\n",
    "#def hurricance_year_dict(names,months,years,max_sustained_winds, areas_affected,damages,deaths):\n",
    "hurricane_year = year_dict()\n",
    "#print(hurricane_year)\n",
    "    "
   ]
  },
  {
   "cell_type": "code",
   "execution_count": 14,
   "metadata": {},
   "outputs": [],
   "source": [
    "# write your count affected areas function here:\n",
    "def aff_areas():\n",
    "    name ={}  \n",
    "    for lis in areas_affected:\n",
    "        for ele in lis:\n",
    "            if ele in name:\n",
    "                name[ele] = name[ele]+1\n",
    "            elif ele not in name:\n",
    "                name[ele]=1\n",
    "    return name\n",
    "area_freq = aff_areas()\n",
    "#print(area_freq)"
   ]
  },
  {
   "cell_type": "code",
   "execution_count": 15,
   "metadata": {},
   "outputs": [],
   "source": [
    "#TRIAL OF DEFAULT DICTIONARY from the collecions module\n",
    "from collections import defaultdict\n",
    "def aff_areas():\n",
    "#int made the use of +=1 possible without having to set up an original empty dict\n",
    "#USEFUL FOR COUNTING LIKE A BAG OR MULTISET IN OTHER LANGUAGES\n",
    "    name=defaultdict(int)\n",
    "    for h in hurricane_dict.values():\n",
    "        for k,v in h.items():\n",
    "            if k == \"Areas Affected\":\n",
    "                for r in v:\n",
    "                    name[r]+=1\n",
    "    return dict(name)\n",
    "area_freq = aff_areas()\n",
    "#print(area_freq)"
   ]
  },
  {
   "cell_type": "code",
   "execution_count": 16,
   "metadata": {},
   "outputs": [],
   "source": [
    "# write your find most affected area function here:\n",
    "def most_aff():\n",
    "    max_count = 0\n",
    "    max_area =\"\"\n",
    "    for k,v in area_freq.items():\n",
    "        if v > max_count:\n",
    "            max_count = v\n",
    "            max_area = k\n",
    "    return max_area,max_count\n",
    "most_affected = most_aff()"
   ]
  },
  {
   "cell_type": "code",
   "execution_count": 17,
   "metadata": {},
   "outputs": [
    {
     "output_type": "stream",
     "name": "stdout",
     "text": [
      "('Central America', 9)\n"
     ]
    }
   ],
   "source": [
    "print(most_affected)"
   ]
  },
  {
   "cell_type": "code",
   "execution_count": 18,
   "metadata": {},
   "outputs": [],
   "source": [
    "# write your greatest number of deaths function here:\n",
    "def m_death():\n",
    "    max_count = 0\n",
    "    max_storm =\"\"\n",
    "    for h in hurricane_dict.values():\n",
    "        for k,v in h.items():\n",
    "            if k==\"Death\":\n",
    "                if v > max_count:\n",
    "                    max_count = v\n",
    "                    max_storm = h[\"Name\"]\n",
    "most_death = m_death()\n"
   ]
  },
  {
   "cell_type": "code",
   "execution_count": 19,
   "metadata": {},
   "outputs": [
    {
     "output_type": "stream",
     "name": "stdout",
     "text": [
      "None\n"
     ]
    }
   ],
   "source": [
    "print(most_death)"
   ]
  },
  {
   "cell_type": "code",
   "execution_count": 20,
   "metadata": {},
   "outputs": [],
   "source": [
    "# write your catgeorize by mortality function here:\n",
    "mortality_scale = {0: 0,\n",
    "                   1: 100,\n",
    "                   2: 500,\n",
    "                   3: 1000,\n",
    "                   4: 10000}\n",
    "\n",
    "def mortality():\n",
    "    storm = {0:[]}\n",
    "    for h in hurricane_dict.values():\n",
    "        if (5 in storm) and  h[\"Death\"]>mortality_scale[4]:\n",
    "            l=storm[5]\n",
    "            l.append(h)\n",
    "            storm[5]=l\n",
    "        elif (4 in storm) and  mortality_scale[4]>=h[\"Death\"]>mortality_scale[3]:\n",
    "            l=storm[4]\n",
    "            l.append(h)\n",
    "            storm[4]=l\n",
    "        elif (3 in storm) and  mortality_scale[3]>=h[\"Death\"]>mortality_scale[2]:\n",
    "            l=storm[3]\n",
    "            l.append(h)\n",
    "            storm[3]=l\n",
    "        elif (2 in storm) and  mortality_scale[2]>=h[\"Death\"]>mortality_scale[1]:\n",
    "            l=storm[2]\n",
    "            l.append(h)\n",
    "            storm[2]=l\n",
    "        elif (1 in storm) and  mortality_scale[1]>=h[\"Death\"]>mortality_scale[0]:\n",
    "            l=storm[1]\n",
    "            l.append(h)\n",
    "            storm[1]=l\n",
    "        elif (0 in storm) and  h[\"Death\"]==mortality_scale[0]:\n",
    "            l=storm[0]\n",
    "            l.append(h)\n",
    "            storm[0]=l\n",
    "        else:\n",
    "            if h[\"Death\"]>mortality_scale[4]:\n",
    "                l=[h]\n",
    "                storm[5]=l\n",
    "            elif mortality_scale[4]>=h[\"Death\"]>mortality_scale[3]:\n",
    "                l=[h]\n",
    "                storm[4]=l\n",
    "            elif mortality_scale[3]>=h[\"Death\"]>mortality_scale[2]:\n",
    "                l=[h]\n",
    "                storm[3]=l\n",
    "              \n",
    "            elif mortality_scale[2]>=h[\"Death\"]>mortality_scale[1]:\n",
    "                l=[h]\n",
    "                storm[2]=l\n",
    "               \n",
    "            elif mortality_scale[1]>=h[\"Death\"]>mortality_scale[0]:\n",
    "                l=[h]\n",
    "                storm[1]=l\n",
    "               \n",
    "            elif h[\"Death\"]==mortality_scale[0]:\n",
    "                l=[h]\n",
    "                storm[0]=l\n",
    "              \n",
    "\n",
    "    return storm\n",
    "\n",
    "storm_mortality = mortality()\n",
    "#print(storm_mortality)"
   ]
  },
  {
   "cell_type": "code",
   "execution_count": 21,
   "metadata": {},
   "outputs": [
    {
     "output_type": "stream",
     "name": "stdout",
     "text": [
      "('Katrina', 125000000000.0)\n"
     ]
    }
   ],
   "source": [
    "# write your greatest damage function here:\n",
    "def m_damage():\n",
    "    max_count = 0\n",
    "    max_storm =\"\"\n",
    "    for storm in hurricane_dict:\n",
    "        if (type(hurricane_dict[storm][\"Damage\"])==float):\n",
    "                    if hurricane_dict[storm][\"Damage\"] > max_count:\n",
    "                        max_count = hurricane_dict[storm][\"Damage\"]\n",
    "                        max_storm = storm\n",
    "    return max_storm,max_count\n",
    "most_damage = m_damage()\n",
    "print(most_damage)\n"
   ]
  },
  {
   "cell_type": "code",
   "execution_count": 22,
   "metadata": {},
   "outputs": [
    {
     "output_type": "stream",
     "name": "stdout",
     "text": [
      "('Katrina', 125000000000.0)\n"
     ]
    }
   ],
   "source": [
    "print(most_damage)"
   ]
  },
  {
   "cell_type": "code",
   "execution_count": 23,
   "metadata": {},
   "outputs": [],
   "source": [
    "# write your catgeorize by damage function here:\n",
    "damage_scale = {0: 0,\n",
    "                1: 100000000,\n",
    "                2: 1000000000,\n",
    "                3: 10000000000,\n",
    "                4: 50000000000}\n",
    "\n",
    "def h_dam():\n",
    "    storm = {'Damages not recorded':[]}\n",
    "    for h in hurricane_dict.values():\n",
    "        if (type(h[\"Damage\"])==float):\n",
    "            if (5 in storm) and  h[\"Damage\"]>damage_scale[4]:\n",
    "                l=storm[5]\n",
    "                l.append(h)\n",
    "                storm[5]=l\n",
    "            elif (4 in storm) and  damage_scale[4]>=h[\"Damage\"]>damage_scale[3]:\n",
    "                l=storm[4]\n",
    "                l.append(h)\n",
    "                storm[4]=l\n",
    "            elif (3 in storm) and  damage_scale[3]>=h[\"Damage\"]>damage_scale[2]:\n",
    "                l=storm[3]\n",
    "                l.append(h)\n",
    "                storm[3]=l\n",
    "            elif (2 in storm) and  damage_scale[2]>=h[\"Damage\"]>damage_scale[1]:\n",
    "                l=storm[2]\n",
    "                l.append(h)\n",
    "                storm[2]=l\n",
    "            elif (1 in storm) and  damage_scale[1]>=h[\"Damage\"]>damage_scale[0]:\n",
    "                l=storm[1]\n",
    "                l.append(h)\n",
    "                storm[1]=l\n",
    "            elif (0 in storm) and  h[\"Damage\"]==damage_scale[0]:\n",
    "                l=storm[0]\n",
    "                l.append(h)\n",
    "                storm[0]=l\n",
    "            else:\n",
    "                if h[\"Damage\"]>damage_scale[4]:\n",
    "                    l=[h]\n",
    "                    storm[5]=l\n",
    "                elif damage_scale[4]>=h[\"Damage\"]>damage_scale[3]:\n",
    "                    l=[h]\n",
    "                    storm[4]=l\n",
    "                elif damage_scale[3]>=h[\"Damage\"]>damage_scale[2]:\n",
    "                    l=[h]\n",
    "                    storm[3]=l\n",
    "                  \n",
    "                elif damage_scale[2]>=h[\"Damage\"]>damage_scale[1]:\n",
    "                    l=[h]\n",
    "                    storm[2]=l\n",
    "                   \n",
    "                elif damage_scale[1]>=h[\"Damage\"]>damage_scale[0]:\n",
    "                    l=[h]\n",
    "                    storm[1]=l\n",
    "                   \n",
    "                elif h[\"Damage\"]==damage_scale[0]:\n",
    "                    l=[h]\n",
    "                    storm[0]=l\n",
    "        elif h[\"Damage\"]=='Damages not recorded':\n",
    "              l=storm['Damages not recorded']\n",
    "              l.append(h)\n",
    "              storm['Damages not recorded']=l\n",
    "                  \n",
    "    return storm\n",
    "\n",
    "storm_damage = h_dam()\n",
    "#print(storm_damage)"
   ]
  },
  {
   "source": [
    "the next one is new code (apart from the exersice) for testing"
   ],
   "cell_type": "markdown",
   "metadata": {}
  },
  {
   "cell_type": "code",
   "execution_count": 24,
   "metadata": {},
   "outputs": [
    {
     "output_type": "stream",
     "name": "stdout",
     "text": [
      "5\n-1\n"
     ]
    }
   ],
   "source": [
    "def some_function(x, y):\n",
    "    if x > y:\n",
    "        return x + y\n",
    "    else:\n",
    "        return x - y\n",
    "\n",
    "print(some_function(3, 2))\n",
    "print(some_function(2, 3))"
   ]
  }
 ],
 "metadata": {
  "kernelspec": {
   "name": "python3",
   "display_name": "Python 3.8.8 64-bit ('base': conda)"
  },
  "language_info": {
   "codemirror_mode": {
    "name": "ipython",
    "version": 3
   },
   "file_extension": ".py",
   "mimetype": "text/x-python",
   "name": "python",
   "nbconvert_exporter": "python",
   "pygments_lexer": "ipython3",
   "version": "3.8.8"
  },
  "interpreter": {
   "hash": "f75184d7392d3c471d786b7f7a5e06ebd434197a0e67e3e6b3e2d3660618417d"
  }
 },
 "nbformat": 4,
 "nbformat_minor": 2
}